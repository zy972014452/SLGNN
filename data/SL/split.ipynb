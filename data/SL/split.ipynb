{
 "cells": [
  {
   "cell_type": "code",
   "execution_count": 3,
   "metadata": {},
   "outputs": [],
   "source": [
    "import collections\n",
    "import os\n",
    "from os.path import join\n",
    "import sys\n",
    "import random\n",
    "import torch\n",
    "import numpy as np\n",
    "import pandas as pd\n",
    "from torch.utils import data\n",
    "from torch.utils.data import Dataset, DataLoader\n",
    "from scipy.sparse import csr_matrix\n",
    "import scipy.sparse as sp\n",
    "from time import time\n",
    "from random import sample\n",
    "\n",
    "DATA_PATH = 'data/SL/'\n",
    "KG_FILE_NAME = 'raw/kg2id.txt'\n",
    "SL_DATASET = 'raw/test_d.txt'\n",
    "NEIGHBOR_NUM = 16"
   ]
  },
  {
   "cell_type": "code",
   "execution_count": 9,
   "metadata": {},
   "outputs": [],
   "source": [
    "sl_df = pd.read_csv(SL_DATASET, sep='\\t')\n",
    "all_a = np.array(sl_df['gene_a'])\n",
    "all_b = np.array(sl_df['gene_b'])\n",
    "all_label=np.array(sl_df['label'])\n",
    "shuffle_idx = np.random.permutation(np.arange(len(all_a)))\n",
    "all_a = all_a[shuffle_idx]\n",
    "all_b = all_b[shuffle_idx]\n",
    "all_label=all_label[shuffle_idx]"
   ]
  },
  {
   "cell_type": "code",
   "execution_count": 10,
   "metadata": {},
   "outputs": [],
   "source": [
    "for i in range(5):\n",
    "    fold_n=i+1\n",
    "    len_per_fold = len(all_a) // 5\n",
    "    all_idx = [i for i in range(len(all_a))]\n",
    "    val_test_idx = [\n",
    "            i for i in range((fold_n - 1) * len_per_fold, fold_n *\n",
    "                             len_per_fold)\n",
    "        ]\n",
    "    train_idx = list(set(all_idx) - set(val_test_idx))\n",
    "    train_a = all_a[train_idx]\n",
    "    train_b = all_b[train_idx]\n",
    "    train_label=all_label[train_idx]\n",
    "    val_a = all_a[val_test_idx[:len_per_fold // 2]]\n",
    "    val_b = all_b[val_test_idx[:len_per_fold // 2]]\n",
    "    val_label=all_label[val_test_idx[:len_per_fold // 2]]\n",
    "    test_a = all_a[val_test_idx[len_per_fold // 2:]]\n",
    "    test_b = all_b[val_test_idx[len_per_fold // 2:]]\n",
    "    test_label=all_label[val_test_idx[len_per_fold // 2:]]\n",
    "    train_df=pd.DataFrame()\n",
    "    train_df['gene_a']=train_a\n",
    "    train_df['gene_b']=train_b\n",
    "    train_df['label']=train_label\n",
    "    val_df=pd.DataFrame()\n",
    "    val_df['gene_a']=val_a\n",
    "    val_df['gene_b']=val_b\n",
    "    val_df['label']=val_label\n",
    "    test_df=pd.DataFrame()\n",
    "    test_df['gene_a']=test_a\n",
    "    test_df['gene_b']=test_b\n",
    "    test_df['label']=test_label\n",
    "    train_df.to_csv('fold_data/fold_'+str(i+1)+'/train.txt',sep='\\t',header=True,index=False)\n",
    "    val_df.to_csv('fold_data/fold_'+str(i+1)+'/val.txt',sep='\\t',header=True,index=False)\n",
    "    test_df.to_csv('fold_data/fold_'+str(i+1)+'/test.txt',sep='\\t',header=True,index=False)\n",
    "\n",
    "    \n",
    "    "
   ]
  },
  {
   "cell_type": "code",
   "execution_count": null,
   "metadata": {},
   "outputs": [],
   "source": []
  }
 ],
 "metadata": {
  "kernelspec": {
   "display_name": "Python 3.9.7 ('exp')",
   "language": "python",
   "name": "python3"
  },
  "language_info": {
   "codemirror_mode": {
    "name": "ipython",
    "version": 3
   },
   "file_extension": ".py",
   "mimetype": "text/x-python",
   "name": "python",
   "nbconvert_exporter": "python",
   "pygments_lexer": "ipython3",
   "version": "3.9.7"
  },
  "orig_nbformat": 4,
  "vscode": {
   "interpreter": {
    "hash": "b4ed3c09d0d928d3e2a46a60a21b2a2ca8d61aef52588f8ae9a323cc38ab3653"
   }
  }
 },
 "nbformat": 4,
 "nbformat_minor": 2
}
